{
 "cells": [
  {
   "cell_type": "markdown",
   "metadata": {},
   "source": [
    "# CAPSTONE PROJECT 2"
   ]
  },
  {
   "cell_type": "markdown",
   "metadata": {},
   "source": [
    "## NLP - ENG TO FRE TRANSLATION"
   ]
  },
  {
   "cell_type": "markdown",
   "metadata": {},
   "source": [
    "## 1) Environment and Data Set Up"
   ]
  },
  {
   "cell_type": "markdown",
   "metadata": {},
   "source": [
    "### 1.1) Environment Set Up"
   ]
  },
  {
   "cell_type": "markdown",
   "metadata": {},
   "source": [
    "__Note__: For this project, since I knew I was going to need more processing power than my personal laptop could provide, I signed up for a __Google Cloud Computing account__. In doing so, you are given a $300.00 credit to use for testing purposes before you will be charged for their services. It is a good amount to start learning about Google Cloud Computing and how to set up a project there. \n",
    "\n",
    "I took advantage of this opportunity and set up an __instance with a decent CPU and added an NVIDIA K80 GPU for more processing power__. The instance runs on a __Linux DEBIAN Operating System__.\n",
    "\n",
    "I also built a __Google Cloud bucket__ where I could upload my language input files."
   ]
  },
  {
   "cell_type": "markdown",
   "metadata": {},
   "source": [
    "### 1.2) Data Load Set Up"
   ]
  },
  {
   "cell_type": "markdown",
   "metadata": {},
   "source": [
    "**Install Cloud Storage Client Python Library (if you don't have it already).**"
   ]
  },
  {
   "cell_type": "code",
   "execution_count": 1,
   "metadata": {},
   "outputs": [],
   "source": [
    "#!pip install google-cloud-storage"
   ]
  },
  {
   "cell_type": "markdown",
   "metadata": {},
   "source": [
    "**Import cloud storage and initialize client**"
   ]
  },
  {
   "cell_type": "code",
   "execution_count": 15,
   "metadata": {},
   "outputs": [],
   "source": [
    "from google.cloud import storage\n",
    "client = storage.Client()"
   ]
  },
  {
   "cell_type": "markdown",
   "metadata": {},
   "source": [
    "**Get the file from a specified Google Cloud bucket.**"
   ]
  },
  {
   "cell_type": "code",
   "execution_count": 16,
   "metadata": {},
   "outputs": [],
   "source": [
    "bucket = client.get_bucket(\"olivier-bucket-1\")"
   ]
  },
  {
   "cell_type": "markdown",
   "metadata": {},
   "source": [
    "**Generate Binary Large Objects (blobs) from the input files**"
   ]
  },
  {
   "cell_type": "code",
   "execution_count": 17,
   "metadata": {},
   "outputs": [],
   "source": [
    "en_blob = bucket.get_blob(f\"europarl-v7.fr-en.en\")\n",
    "fr_blob = bucket.get_blob(f\"europarl-v7.fr-en.fr\")"
   ]
  },
  {
   "cell_type": "markdown",
   "metadata": {},
   "source": [
    "**Generate Bytes Objects from the blobs**"
   ]
  },
  {
   "cell_type": "code",
   "execution_count": 18,
   "metadata": {},
   "outputs": [],
   "source": [
    "en_bt = en_blob.download_as_string()\n",
    "fr_bt = fr_blob.download_as_string()"
   ]
  },
  {
   "cell_type": "markdown",
   "metadata": {},
   "source": [
    "**Transform bytes to strings**"
   ]
  },
  {
   "cell_type": "code",
   "execution_count": 19,
   "metadata": {},
   "outputs": [],
   "source": [
    "from io import StringIO\n",
    "\n",
    "en_s = str(en_bt, \"utf-8\")\n",
    "fr_s = str(fr_bt, \"utf-8\")"
   ]
  },
  {
   "cell_type": "markdown",
   "metadata": {},
   "source": [
    "**Generate language sentences by splitting the strings on the newline character**"
   ]
  },
  {
   "cell_type": "code",
   "execution_count": 20,
   "metadata": {},
   "outputs": [],
   "source": [
    "eng_sentences = en_s.split('\\n')\n",
    "fre_sentences = fr_s.split('\\n')"
   ]
  },
  {
   "cell_type": "markdown",
   "metadata": {},
   "source": [
    "**Taking a look at a few examples of English sentences and their French counterparts**"
   ]
  },
  {
   "cell_type": "code",
   "execution_count": 34,
   "metadata": {},
   "outputs": [
    {
     "name": "stdout",
     "output_type": "stream",
     "text": [
      "\u001b[1m\u001b[32mEnglish Sentence 1 :  Resumption of the session\u001b[0m\n",
      "\u001b[1m\u001b[34mFrench Sentence 1  :  Reprise de la session\n",
      "\u001b[0m\n",
      "\u001b[1m\u001b[32mEnglish Sentence 2 :  I declare resumed the session of the European Parliament adjourned on Friday 17 December 1999, and I would like once again to wish you a happy new year in the hope that you enjoyed a pleasant festive period.\u001b[0m\n",
      "\u001b[1m\u001b[34mFrench Sentence 2  :  Je déclare reprise la session du Parlement européen qui avait été interrompue le vendredi 17 décembre dernier et je vous renouvelle tous mes vux en espérant que vous avez passé de bonnes vacances.\n",
      "\u001b[0m\n",
      "\u001b[1m\u001b[32mEnglish Sentence 3 :  Although, as you will have seen, the dreaded 'millennium bug' failed to materialise, still the people in a number of countries suffered a series of natural disasters that truly were dreadful.\u001b[0m\n",
      "\u001b[1m\u001b[34mFrench Sentence 3  :  Comme vous avez pu le constater, le grand \"bogue de l'an 2000\" ne s'est pas produit. En revanche, les citoyens d'un certain nombre de nos pays ont été victimes de catastrophes naturelles qui ont vraiment été terribles.\n",
      "\u001b[0m\n"
     ]
    }
   ],
   "source": [
    "from termcolor import colored\n",
    "\n",
    "for sample_i in range(3):\n",
    "    print(colored('English Sentence {} :  {}'.format(sample_i+1, eng_sentences[sample_i]),'green', attrs=['bold']))\n",
    "    print(colored('French Sentence {}  :  {}\\n'.format(sample_i+1, fre_sentences[sample_i]), 'blue', attrs=['bold']))"
   ]
  },
  {
   "cell_type": "markdown",
   "metadata": {},
   "source": [
    "**We will now pickle the loaded English and French sentences**"
   ]
  },
  {
   "cell_type": "code",
   "execution_count": 35,
   "metadata": {},
   "outputs": [],
   "source": [
    "import pickle\n",
    "\n",
    "#create a file\n",
    "eng_picklefile = open('eng_sentences', 'wb')\n",
    "fre_picklefile = open('fre_sentences', 'wb')\n",
    "\n",
    "#pickle the dataframe\n",
    "pickle.dump(eng_sentences, eng_picklefile)\n",
    "pickle.dump(fre_sentences, fre_picklefile)\n",
    "\n",
    "#close file\n",
    "eng_picklefile.close()\n",
    "fre_picklefile.close()"
   ]
  },
  {
   "cell_type": "code",
   "execution_count": null,
   "metadata": {},
   "outputs": [],
   "source": []
  }
 ],
 "metadata": {
  "kernelspec": {
   "display_name": "Python 3",
   "language": "python",
   "name": "python3"
  },
  "language_info": {
   "codemirror_mode": {
    "name": "ipython",
    "version": 3
   },
   "file_extension": ".py",
   "mimetype": "text/x-python",
   "name": "python",
   "nbconvert_exporter": "python",
   "pygments_lexer": "ipython3",
   "version": "3.8.5"
  }
 },
 "nbformat": 4,
 "nbformat_minor": 4
}
